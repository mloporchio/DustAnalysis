{
 "cells": [
  {
   "cell_type": "code",
   "execution_count": 2,
   "id": "dc2d4530",
   "metadata": {},
   "outputs": [],
   "source": [
    "import pandas as pd\n",
    "import numpy as np"
   ]
  },
  {
   "cell_type": "markdown",
   "id": "2de5f1c6",
   "metadata": {},
   "source": [
    "# Filtering\n",
    "\n",
    "First, we introduce the following definitions:\n",
    "\n",
    "- Dust-creating transactions: those with at least one dust output.\n",
    "- Dust-consuming transactions: those with at least one dust input.\n",
    "\n",
    "We have a data set of 2,114,335 dust-creating and/or dust-consuming transactions (notice: a transaction can be both dust-creating and dust-consuming at the same time)."
   ]
  },
  {
   "cell_type": "code",
   "execution_count": 3,
   "id": "46886774",
   "metadata": {},
   "outputs": [
    {
     "name": "stdout",
     "output_type": "stream",
     "text": [
      "2114335\n"
     ]
    }
   ],
   "source": [
    "inputs = pd.read_csv('data/txs_inputs.csv')\n",
    "outputs = pd.read_csv('data/txs_outputs.csv')\n",
    "addrId2Hash = pd.read_csv('data/txs_addr_map.csv')\n",
    "numTxs = len(np.union1d(inputs.txId.unique(), outputs.txId.unique()))\n",
    "print(numTxs)"
   ]
  },
  {
   "cell_type": "markdown",
   "id": "efd781ae",
   "metadata": {},
   "source": [
    "**Goal**\n",
    "\n",
    "The goal of this notebook is to filter the data set by excluding all transactions that are not related to dust attacks (from both sides of attackers and victims).\n",
    "\n",
    "First, we classify the input addresses using the Entity-Address data set\n",
    "(https://github.com/Maru92/EntityAddressBitcoin/blob/master/README.md) enriched with Satoshi Dice addresses."
   ]
  },
  {
   "cell_type": "code",
   "execution_count": 3,
   "id": "5950c37c",
   "metadata": {},
   "outputs": [],
   "source": [
    "#addrHash2Label = pd.read_csv('data/labels.csv', names=['label', 'addrHash'])\n",
    "#df = pd.DataFrame({'addrId' : inputs.address.unique()})\n",
    "#df = df.merge(addrId2Hash, how='left', on='addrId')\n",
    "#df = df.merge(addrHash2Label, how='left', on='addrHash')\n",
    "#df"
   ]
  },
  {
   "cell_type": "markdown",
   "id": "c3bc77ca",
   "metadata": {},
   "source": [
    "We import the data set of classified input addresses."
   ]
  },
  {
   "cell_type": "code",
   "execution_count": 4,
   "id": "cac1567b",
   "metadata": {},
   "outputs": [
    {
     "data": {
      "text/html": [
       "<div>\n",
       "<style scoped>\n",
       "    .dataframe tbody tr th:only-of-type {\n",
       "        vertical-align: middle;\n",
       "    }\n",
       "\n",
       "    .dataframe tbody tr th {\n",
       "        vertical-align: top;\n",
       "    }\n",
       "\n",
       "    .dataframe thead th {\n",
       "        text-align: right;\n",
       "    }\n",
       "</style>\n",
       "<table border=\"1\" class=\"dataframe\">\n",
       "  <thead>\n",
       "    <tr style=\"text-align: right;\">\n",
       "      <th></th>\n",
       "      <th>addrId</th>\n",
       "      <th>addrHash</th>\n",
       "      <th>label</th>\n",
       "    </tr>\n",
       "  </thead>\n",
       "  <tbody>\n",
       "    <tr>\n",
       "      <th>0</th>\n",
       "      <td>118901</td>\n",
       "      <td>1GmpnvUTTw1nxCtCurV8ASNAozKs4TtSev</td>\n",
       "      <td>Unknown</td>\n",
       "    </tr>\n",
       "    <tr>\n",
       "      <th>1</th>\n",
       "      <td>118902</td>\n",
       "      <td>166LcMzBUP2tNDhNDinNAM2pvo9A7ckUBt</td>\n",
       "      <td>Unknown</td>\n",
       "    </tr>\n",
       "    <tr>\n",
       "      <th>2</th>\n",
       "      <td>118918</td>\n",
       "      <td>1GwrmsmaULujeabYvSyHGofyuuSrUKzDKU</td>\n",
       "      <td>Unknown</td>\n",
       "    </tr>\n",
       "    <tr>\n",
       "      <th>3</th>\n",
       "      <td>118919</td>\n",
       "      <td>1CpDrFsoHmmviU6LYK9o3vND1BME5VPTQ4</td>\n",
       "      <td>Unknown</td>\n",
       "    </tr>\n",
       "    <tr>\n",
       "      <th>4</th>\n",
       "      <td>118920</td>\n",
       "      <td>1DcvhbDdWCxpnRdmFyMACxUbKX1FRX3zA8</td>\n",
       "      <td>Unknown</td>\n",
       "    </tr>\n",
       "    <tr>\n",
       "      <th>...</th>\n",
       "      <td>...</td>\n",
       "      <td>...</td>\n",
       "      <td>...</td>\n",
       "    </tr>\n",
       "    <tr>\n",
       "      <th>2125850</th>\n",
       "      <td>29114529</td>\n",
       "      <td>1CyRZHHPH5QvSLo6bVjfNn8M16AXVDBe7Z</td>\n",
       "      <td>Unknown</td>\n",
       "    </tr>\n",
       "    <tr>\n",
       "      <th>2125851</th>\n",
       "      <td>35034396</td>\n",
       "      <td>1ByN1TqM6FPJ5NUCCyHH2bqUyVPMuK6Hfk</td>\n",
       "      <td>Unknown</td>\n",
       "    </tr>\n",
       "    <tr>\n",
       "      <th>2125852</th>\n",
       "      <td>292018547</td>\n",
       "      <td>1PHYyWACWNMSEdf2hG4EZQ4DM2YjAVUGej</td>\n",
       "      <td>Unknown</td>\n",
       "    </tr>\n",
       "    <tr>\n",
       "      <th>2125853</th>\n",
       "      <td>292018534</td>\n",
       "      <td>1GAcmdKTAfBEqexBWJzzjt9NnCTz4fFCne</td>\n",
       "      <td>Unknown</td>\n",
       "    </tr>\n",
       "    <tr>\n",
       "      <th>2125854</th>\n",
       "      <td>21775323</td>\n",
       "      <td>17wkRjBgdspHR6itHxHveGfU4ktEj5a7jg</td>\n",
       "      <td>Unknown</td>\n",
       "    </tr>\n",
       "  </tbody>\n",
       "</table>\n",
       "<p>2125855 rows × 3 columns</p>\n",
       "</div>"
      ],
      "text/plain": [
       "            addrId                            addrHash    label\n",
       "0           118901  1GmpnvUTTw1nxCtCurV8ASNAozKs4TtSev  Unknown\n",
       "1           118902  166LcMzBUP2tNDhNDinNAM2pvo9A7ckUBt  Unknown\n",
       "2           118918  1GwrmsmaULujeabYvSyHGofyuuSrUKzDKU  Unknown\n",
       "3           118919  1CpDrFsoHmmviU6LYK9o3vND1BME5VPTQ4  Unknown\n",
       "4           118920  1DcvhbDdWCxpnRdmFyMACxUbKX1FRX3zA8  Unknown\n",
       "...            ...                                 ...      ...\n",
       "2125850   29114529  1CyRZHHPH5QvSLo6bVjfNn8M16AXVDBe7Z  Unknown\n",
       "2125851   35034396  1ByN1TqM6FPJ5NUCCyHH2bqUyVPMuK6Hfk  Unknown\n",
       "2125852  292018547  1PHYyWACWNMSEdf2hG4EZQ4DM2YjAVUGej  Unknown\n",
       "2125853  292018534  1GAcmdKTAfBEqexBWJzzjt9NnCTz4fFCne  Unknown\n",
       "2125854   21775323  17wkRjBgdspHR6itHxHveGfU4ktEj5a7jg  Unknown\n",
       "\n",
       "[2125855 rows x 3 columns]"
      ]
     },
     "execution_count": 4,
     "metadata": {},
     "output_type": "execute_result"
    }
   ],
   "source": [
    "inputAddrs = pd.read_csv('data/txs_addr_input.csv')\n",
    "inputAddrs = inputAddrs.fillna('Unknown')\n",
    "inputAddrs"
   ]
  },
  {
   "cell_type": "markdown",
   "id": "da2eca84",
   "metadata": {},
   "source": [
    "Now we would like to compute the set of all transactions with at least one known address among their inputs."
   ]
  },
  {
   "cell_type": "code",
   "execution_count": 5,
   "id": "c33f4a6e",
   "metadata": {},
   "outputs": [
    {
     "name": "stdout",
     "output_type": "stream",
     "text": [
      "N. of known transactions: 1550843\n"
     ]
    }
   ],
   "source": [
    "tmp = inputs.rename(columns={'address':'addrId'})\n",
    "tmp = tmp.merge(inputAddrs, how='left', on='addrId')\n",
    "knownTxs = tmp[tmp.label != 'Unknown'].txId.unique()\n",
    "print('N. of known transactions: {}'.format(len(knownTxs)))"
   ]
  },
  {
   "cell_type": "markdown",
   "id": "b84aadcb",
   "metadata": {},
   "source": [
    "We examine the top 10 services in the known transactions."
   ]
  },
  {
   "cell_type": "code",
   "execution_count": 19,
   "id": "4a697820",
   "metadata": {},
   "outputs": [
    {
     "name": "stdout",
     "output_type": "stream",
     "text": [
      "Total number of transactions: 1535873\n",
      "Percentage over full data set: 72.64\n"
     ]
    },
    {
     "data": {
      "text/html": [
       "<div>\n",
       "<style scoped>\n",
       "    .dataframe tbody tr th:only-of-type {\n",
       "        vertical-align: middle;\n",
       "    }\n",
       "\n",
       "    .dataframe tbody tr th {\n",
       "        vertical-align: top;\n",
       "    }\n",
       "\n",
       "    .dataframe thead th {\n",
       "        text-align: right;\n",
       "    }\n",
       "</style>\n",
       "<table border=\"1\" class=\"dataframe\">\n",
       "  <thead>\n",
       "    <tr style=\"text-align: right;\">\n",
       "      <th></th>\n",
       "      <th>label</th>\n",
       "      <th>description</th>\n",
       "      <th>numTxs</th>\n",
       "      <th>percentage</th>\n",
       "    </tr>\n",
       "  </thead>\n",
       "  <tbody>\n",
       "    <tr>\n",
       "      <th>205</th>\n",
       "      <td>SatoshiDice</td>\n",
       "      <td>On-chain betting service</td>\n",
       "      <td>1464813</td>\n",
       "      <td>69.280</td>\n",
       "    </tr>\n",
       "    <tr>\n",
       "      <th>230</th>\n",
       "      <td>ePay.info</td>\n",
       "      <td>Faucet service</td>\n",
       "      <td>43259</td>\n",
       "      <td>2.046</td>\n",
       "    </tr>\n",
       "    <tr>\n",
       "      <th>69</th>\n",
       "      <td>BtcDice.com</td>\n",
       "      <td>On-chain betting service</td>\n",
       "      <td>8500</td>\n",
       "      <td>0.402</td>\n",
       "    </tr>\n",
       "    <tr>\n",
       "      <th>132</th>\n",
       "      <td>DiceOnCrack.com</td>\n",
       "      <td>On-chain betting service</td>\n",
       "      <td>7114</td>\n",
       "      <td>0.336</td>\n",
       "    </tr>\n",
       "    <tr>\n",
       "      <th>31</th>\n",
       "      <td>Betcoins.net</td>\n",
       "      <td>On-chain betting service</td>\n",
       "      <td>3218</td>\n",
       "      <td>0.152</td>\n",
       "    </tr>\n",
       "    <tr>\n",
       "      <th>213</th>\n",
       "      <td>SilkRoadMarketplace</td>\n",
       "      <td>Online black market</td>\n",
       "      <td>2877</td>\n",
       "      <td>0.136</td>\n",
       "    </tr>\n",
       "    <tr>\n",
       "      <th>50</th>\n",
       "      <td>Bitcoin-Roulette.com</td>\n",
       "      <td>On-chain betting service</td>\n",
       "      <td>1742</td>\n",
       "      <td>0.082</td>\n",
       "    </tr>\n",
       "    <tr>\n",
       "      <th>158</th>\n",
       "      <td>Instawallet.org</td>\n",
       "      <td>Online wallet service</td>\n",
       "      <td>1516</td>\n",
       "      <td>0.072</td>\n",
       "    </tr>\n",
       "    <tr>\n",
       "      <th>46</th>\n",
       "      <td>BitZino.com</td>\n",
       "      <td>On-chain betting service</td>\n",
       "      <td>1497</td>\n",
       "      <td>0.071</td>\n",
       "    </tr>\n",
       "    <tr>\n",
       "      <th>82</th>\n",
       "      <td>Cex.io</td>\n",
       "      <td>Exchange service</td>\n",
       "      <td>1337</td>\n",
       "      <td>0.063</td>\n",
       "    </tr>\n",
       "  </tbody>\n",
       "</table>\n",
       "</div>"
      ],
      "text/plain": [
       "                    label               description   numTxs  percentage\n",
       "205           SatoshiDice  On-chain betting service  1464813      69.280\n",
       "230             ePay.info            Faucet service    43259       2.046\n",
       "69            BtcDice.com  On-chain betting service     8500       0.402\n",
       "132       DiceOnCrack.com  On-chain betting service     7114       0.336\n",
       "31           Betcoins.net  On-chain betting service     3218       0.152\n",
       "213   SilkRoadMarketplace       Online black market     2877       0.136\n",
       "50   Bitcoin-Roulette.com  On-chain betting service     1742       0.082\n",
       "158       Instawallet.org     Online wallet service     1516       0.072\n",
       "46            BitZino.com  On-chain betting service     1497       0.071\n",
       "82                 Cex.io          Exchange service     1337       0.063"
      ]
     },
     "execution_count": 19,
     "metadata": {},
     "output_type": "execute_result"
    }
   ],
   "source": [
    "x = pd.DataFrame({'numTxs': tmp[tmp.label != 'Unknown'].groupby('label').txId.nunique()}).reset_index()\n",
    "x = x.sort_values('numTxs', ascending=False)\n",
    "x['percentage'] = ((x['numTxs'] * 100) / numTxs).round(3)\n",
    "x = x.head(10)\n",
    "x['description'] = [\"On-chain betting service\",\"Faucet service\",\"On-chain betting service\",\"On-chain betting service\",\"On-chain betting service\",\"Online black market\",\"On-chain betting service\",\"Online wallet service\",\"On-chain betting service\",\"Exchange service\"]\n",
    "x = x[['label', 'description', 'numTxs', 'percentage']]\n",
    "print(f'Total number of transactions: {np.sum(x.numTxs)}\\nPercentage over full data set: {np.sum(x.percentage)}')\n",
    "x"
   ]
  },
  {
   "cell_type": "markdown",
   "id": "cb60e27a",
   "metadata": {},
   "source": [
    "To identify transactions that are related to dust attacks, we take the data set of all dust-creating and dust-consuming transactions and keep only those that satisfy the following conditions.\n",
    "\n",
    "1. The transaction does not contain the address of a known entity (e.g., on-chain services, mining pools, etc.) among its inputs.\n",
    "2. At least one of the following is true:\n",
    "    - The transaction has at least one dust output that is not associated with the \\texttt{OP\\_RETURN} scripting instruction.\n",
    "    - The transaction has at least one dust input that was not created in a transaction from a known entity."
   ]
  },
  {
   "cell_type": "code",
   "execution_count": 6,
   "id": "adbf867c",
   "metadata": {},
   "outputs": [
    {
     "name": "stdout",
     "output_type": "stream",
     "text": [
      "Size of filtered data set: 387330 TXs\n"
     ]
    }
   ],
   "source": [
    "filteredOut = outputs[(outputs.amount >= 1) & (outputs.amount <= 545) \n",
    "                      & (outputs.scriptType != 4) \n",
    "                      & (~(outputs.txId.isin(knownTxs)))]\n",
    "filteredIn = inputs[(inputs.amount >= 1) & (inputs.amount <= 545)\n",
    "                   & (~(inputs.txId.isin(knownTxs)))\n",
    "                   & (~(inputs.prevTxId.isin(knownTxs)))]\n",
    "filteredTxs = np.union1d(filteredOut.txId.unique(), filteredIn.txId.unique())\n",
    "# Save the list of interesting transactions (to be kept) on a text file.\n",
    "np.savetxt('data/txs_filtered_ids.csv', filteredTxs, fmt='%d', delimiter='\\n')\n",
    "print('Size of filtered data set: {} TXs'.format(len(filteredTxs)))"
   ]
  }
 ],
 "metadata": {
  "kernelspec": {
   "display_name": "Python 3 (ipykernel)",
   "language": "python",
   "name": "python3"
  },
  "language_info": {
   "codemirror_mode": {
    "name": "ipython",
    "version": 3
   },
   "file_extension": ".py",
   "mimetype": "text/x-python",
   "name": "python",
   "nbconvert_exporter": "python",
   "pygments_lexer": "ipython3",
   "version": "3.8.9"
  }
 },
 "nbformat": 4,
 "nbformat_minor": 5
}
